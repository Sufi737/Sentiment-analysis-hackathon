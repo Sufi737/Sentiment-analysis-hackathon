{
 "cells": [
  {
   "cell_type": "code",
   "execution_count": 1,
   "metadata": {},
   "outputs": [],
   "source": [
    "import numpy as np\n",
    "import pandas as pd\n",
    "import re\n",
    "import matplotlib.pyplot as plt\n",
    "import warnings\n",
    "import nltk\n",
    "import string\n",
    "import seaborn as sns\n",
    "from nltk.stem.porter import * \n",
    "from wordcloud import WordCloud\n",
    "\n",
    "warnings.filterwarnings('ignore')\n",
    "%matplotlib inline"
   ]
  },
  {
   "cell_type": "code",
   "execution_count": null,
   "metadata": {},
   "outputs": [],
   "source": [
    "train = pd.read_csv('train.csv')\n",
    "test = pd.read_csv('test.csv')\n",
    "combine = train.append(test,ignore_index=True)"
   ]
  },
  {
   "cell_type": "markdown",
   "metadata": {},
   "source": [
    "# CLEANING PROCESS VALA CODE DAAL WITHOUT HASHTAG CLEANING"
   ]
  },
  {
   "cell_type": "code",
   "execution_count": null,
   "metadata": {},
   "outputs": [],
   "source": [
    "def collectHashtag(x):\n",
    "    hashtags = []    \n",
    "    for i in x:        \n",
    "        ht = re.findall(r\"#(\\w+)\", i)        \n",
    "        hashtags.append(ht)     \n",
    "    return hashtags"
   ]
  },
  {
   "cell_type": "code",
   "execution_count": null,
   "metadata": {},
   "outputs": [],
   "source": [
    "HT_negative = collectHashtag(combine['cleanedText'][combine['sentiment'] == 0])\n",
    "#Nested List to Un-nested List\n",
    "HT_negative = sum(HT_negative,[])\n",
    "\n",
    "HT_neutral = collectHashtag(combine['cleanedText'][combine['sentiment'] == 1])\n",
    "HT_neutral = sum(HT_neutral,[])\n",
    "\n",
    "HT_positive = collectHashtag(combine['cleanedText'][combine['sentiment'] == 2])\n",
    "HT_positive = sum(HT_positive,[])\n",
    "\n",
    "HT_cant_tell = collectHashtag(combine['cleanedText'][combine['sentiment'] == 2])\n",
    "HT_cant_tell = sum(HT_cant_tell,[])"
   ]
  },
  {
   "cell_type": "code",
   "execution_count": null,
   "metadata": {},
   "outputs": [],
   "source": [
    "corpus_negative = nltk.FreqDist(HT_negative)\n",
    "corpus_positive = nltk.FreqDist(HT_postive)\n",
    "corpus_neutral = nltk.FreqDist(HT_neutral)\n",
    "corpus_cant_tell = nltk.FreqDist(HT_cant_tell)"
   ]
  },
  {
   "cell_type": "code",
   "execution_count": null,
   "metadata": {},
   "outputs": [],
   "source": [
    "d = pd.DataFrame({'Hashtag':list(corpus_negative.keys()),'Count':list(corpus_negative.values())})\n",
    "d = d.nlargest(columns='Count',n=20)\n",
    "\n",
    "ax = sns.barplot(data = d,x = 'Hashtag',y = 'Count')\n",
    "plt.figure(figsize=(16,5))\n",
    "plt.setp(ax.get_xticklabels(), rotation=90)\n",
    "plt.show()"
   ]
  },
  {
   "cell_type": "code",
   "execution_count": null,
   "metadata": {},
   "outputs": [],
   "source": []
  }
 ],
 "metadata": {
  "kernelspec": {
   "display_name": "Python 3",
   "language": "python",
   "name": "python3"
  },
  "language_info": {
   "codemirror_mode": {
    "name": "ipython",
    "version": 3
   },
   "file_extension": ".py",
   "mimetype": "text/x-python",
   "name": "python",
   "nbconvert_exporter": "python",
   "pygments_lexer": "ipython3",
   "version": "3.7.3"
  }
 },
 "nbformat": 4,
 "nbformat_minor": 4
}
